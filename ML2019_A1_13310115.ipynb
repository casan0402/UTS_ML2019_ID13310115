{
  "nbformat": 4,
  "nbformat_minor": 0,
  "metadata": {
    "colab": {
      "name": "ML2019_A1_13310115.ipynb",
      "version": "0.3.2",
      "provenance": [],
      "include_colab_link": true
    },
    "kernelspec": {
      "name": "python3",
      "display_name": "Python 3"
    }
  },
  "cells": [
    {
      "cell_type": "markdown",
      "metadata": {
        "id": "view-in-github",
        "colab_type": "text"
      },
      "source": [
        "<a href=\"https://colab.research.google.com/github/casan0402/UTS_ML2019_ID13310115/blob/master/ML2019_A1_13310115.ipynb\" target=\"_parent\"><img src=\"https://colab.research.google.com/assets/colab-badge.svg\" alt=\"Open In Colab\"/></a>"
      ]
    },
    {
      "cell_type": "markdown",
      "metadata": {
        "id": "qB5p1UhkSrhG",
        "colab_type": "text"
      },
      "source": [
        "#32513 Advanced Data Analytics Algorithms - Assignment 1\n",
        "#Student name: Kai-Chieh Chang\n",
        "#Student ID: 13310115\n"
      ]
    },
    {
      "cell_type": "markdown",
      "metadata": {
        "id": "M-inI8kJS3_g",
        "colab_type": "text"
      },
      "source": [
        "#Title\n",
        "##Review Report on “Eigenfaces vs. Fisherfaces: Recognition Using Class Specific Linear Projection”\n"
      ]
    },
    {
      "cell_type": "markdown",
      "metadata": {
        "id": "y1gKqVmpTDKk",
        "colab_type": "text"
      },
      "source": [
        "#Introduction\n",
        "This article introduce a new machine learning algorithm and its application. It also compare the new method to other techniques, and analyzes the advantages and disadvantages by conducting three different experiments. The link to the GitHub is as following:\n",
        ">https://github.com/casan0402/UTS_ML2019_ID13310115/blob/master/ML2019_A1_13310115.ipynb"
      ]
    },
    {
      "cell_type": "markdown",
      "metadata": {
        "id": "PfthyRJqTJJV",
        "colab_type": "text"
      },
      "source": [
        "#Content\n",
        "The research is about the introduction of a face recognition method, which is Fisherface algorithm, that the authors develop, and its comparison about error rate to other methods. Recently, there are several algorithms developed to solve the problem of face recognition. However, they are limited by the extreme changes in lighting, facial expression, and pose. In contrast, Fisherface method, which is derived from Fisher’s Linear Discriminant (FLD), could overcome these difficulties. Then, the four methods are introduced. First, Correlation method is the simplest. It normalized the images and match the training set and test set by evaluating their mean and variance. Its advantage is rare influence of the variance of light. However, it required the images be collected densely, the large computing time, and large amount of storage. Second, Eigenface is a method which use principal components analysis (PCA) technique. Its disadvantage is that it mixes the wanted and unwanted information together. Although, withdrawing the first three important principal component might be helpful, it might also lose some useful information. Third, Linear Subspace is a method that has a lowest error rate under any lighting circumstance if the object is Lambertian Interface. However, it is hard to achieve the condition in the real world. Besides, it is storage and time consuming as well. Finally, Fisherface is the best one in the research because it not only has the lowest error rate but also be applied to any lighting conditions. In the experimental results section, the authors introduce three different environment and two different databases of conducting the research. The first one only changes the lighting condition. The second one changes the facial expression, eye wear, and lighting condition. The third one tests the man in the picture wearing glasses or not. In conclusion, whichever the experiment is, Fisherface algorithm has the best performance. In the end, the authors mention some flaws of the new method such as the application to larger database and the adjustment of sourced image. Some problems are still waiting for future study.\n"
      ]
    },
    {
      "cell_type": "markdown",
      "metadata": {
        "id": "PSMksZGqTNqI",
        "colab_type": "text"
      },
      "source": [
        "#Innovation\n",
        "Overall, I consider that the paper is well innovative. Nowadays, the techniques used for face recognition are numerous and various. However, each of them has its own limitation. It either is subjected to the range of application or resources consuming. The innovation of the research is that the authors develop not only a new method but also an explicit comparison of other different methods. The new method, fisherface, is derived from LDA which can be tracked back to 1936. It is surprising that the algorithm is created from an old technique. Moreover, it is a new idea that compare the Eigenface method, which uses PCA and Fisherface, which uses FLD, by using class specific linear projection. Another interesting part in the research is the experimental condition. For example, for testing the variance of lighting, it not only changes the intensity of lighting but also the angle of illumination. In the second experiment, it tests different facial expression such as happy, sad, winking, sleepy, and surprised.\n"
      ]
    },
    {
      "cell_type": "markdown",
      "metadata": {
        "id": "waUa9FgzTTAN",
        "colab_type": "text"
      },
      "source": [
        "#Technical quality\n",
        "The technical quality of the paper is good. The authors include the mathematical equation to explain the formation of the algorithm, and it also gives a clear explanation about the inference of the algorithms. In the experimental part, the author gives specific source of the databases, which are Harvard database and the one that author created at Yale. Besides, it also explains the reason of choosing different database in different experimental condition reasonably. However, in terms of using variant of the linear subset, the authors do not mention the reason why the method changes. It just state that it is under the suggestion of other authors. Moreover, although it mentions about the limitation of applying the new methods on the large database. However, in the third experiment, the authors only use one picture for testing the correctness of identifying the eye wear. in such a small database, it does not give any statement about the effect of other compared method in the small database. I doubt that whether the given data is representative or not. Though there is a few flaws requiring further explanation or support, the technical quality is persuasive. \n"
      ]
    },
    {
      "cell_type": "markdown",
      "metadata": {
        "id": "hQbiqSKVTXsm",
        "colab_type": "text"
      },
      "source": [
        "#Application and X-factor\n",
        "Face recognition is an interesting topic and has a practical application in our daily life. I consider that the developed algorithm is exactly suitable for the face recognition because it causes less error rate and apply wider range than other method. Especially, face recognition is always used in some confidential verification. For example, Apple use cafe recognition to help user unlock his iphone and provides better, faster, more convenient user experiences.\n",
        "I consider that in the future, because of internet of things, the algorithm might have a broader application such as identifying the object or searching missing items in the nightclub which has huge variance of lighting. To sum up, the X-factor of the method is based on its performance and the suitability to the environment. Further work includes that expanding its application to movement and pose, and decreasing the error rate.\n"
      ]
    },
    {
      "cell_type": "markdown",
      "metadata": {
        "id": "pOHkp_qETcBe",
        "colab_type": "text"
      },
      "source": [
        "#Presentation\n",
        "The presentation of the paper is clear and well structured. The authors divide the paper into four sections which are introduction, methods, experimental results, and conclusion. In the introduction, the article clearly states that the topic is about the comparison of four different and the reason why the authors want to conduct the experiment. In the body paragraph, it also gives clear numbers for the four different methods discussed in the section of method, and three different experimental condition in the section of experimental results. Besides, all the experimental results are well supported by the explicit evidence with figures and table, resulting a convincing outcome. In the end, it lists all the conclusion in the form of bullet point. Overall, the paper is easy to read. However, it will be more clear if the future works and the drawback of the research are well organized.\n"
      ]
    },
    {
      "cell_type": "markdown",
      "metadata": {
        "id": "FZAmUWJcTg_n",
        "colab_type": "text"
      },
      "source": [
        "#References\n",
        "\n",
        "Belhumeur, P.N., Hespanha, J.P. & Kriegman, D.J., 1997, ‘Eigenfaces vs. Fisherface: Recognition Using Class Specific Linear Projection’, IEEE Transactions on Pattern Analysis and Machine Intelligence, July 1997, Vol.19, No.7, pp.711-720\n",
        " \n",
        "Martinez, A.M., Kak, A.C., 2001, ‘PCA versus LDA’, IEEE Transactions on Pattern Analysis and Machine Intelligence, February 2001, Vol.23, No.2, pp.228-233\n"
      ]
    }
  ]
}